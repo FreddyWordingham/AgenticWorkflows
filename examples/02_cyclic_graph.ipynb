{
 "cells": [
  {
   "cell_type": "markdown",
   "metadata": {},
   "source": [
    "# A Cyclic Graph\n"
   ]
  },
  {
   "cell_type": "markdown",
   "metadata": {},
   "source": [
    "Let's introduce some complexity to our graph.\n",
    "This time, the graph is cyclic, meaning that there are loops in the graph.\n"
   ]
  },
  {
   "cell_type": "markdown",
   "metadata": {},
   "source": [
    "## The Collatz Conjecture\n",
    "\n",
    "The Collatz conjecture is a famous unsolved problem in mathematics.\n",
    "It is defined as follows:\n",
    "\n",
    "- Start with any positive integer $n$.\n",
    "- If $n$ is even, divide it by 2.\n",
    "- If $n$ is odd, multiply it by 3 and add 1.\n",
    "- Repeat the process until you reach 1.\n",
    "\n",
    "The conjecture is that no matter what positive integer you start with, you will always reach 1 eventually!\n"
   ]
  },
  {
   "cell_type": "code",
   "execution_count": 34,
   "metadata": {},
   "outputs": [],
   "source": [
    "from IPython.display import Image, display\n",
    "from pprint import pprint\n",
    "from typing import Any, TypedDict\n",
    "\n",
    "from langgraph.graph import (\n",
    "    StateGraph,\n",
    "    START,\n",
    "    END,\n",
    ")  # For creating and running agentic workflows"
   ]
  },
  {
   "cell_type": "markdown",
   "metadata": {},
   "source": [
    "## 1. Define the **State**\n",
    "\n",
    "This time, our state will need to \"remember\" the number we are currently working with:\n"
   ]
  },
  {
   "cell_type": "code",
   "execution_count": 2,
   "metadata": {},
   "outputs": [],
   "source": [
    "class State(TypedDict):\n",
    "    n: int"
   ]
  },
  {
   "cell_type": "markdown",
   "metadata": {},
   "source": [
    "## 2. Define the **Nodes**\n",
    "\n",
    "This time we will have two nodes.\n",
    "\n",
    "- The first node calculates the next number in the sequence.\n",
    "- The second node determines if we have reached the end of the sequence.\n"
   ]
  },
  {
   "cell_type": "code",
   "execution_count": 33,
   "metadata": {},
   "outputs": [],
   "source": [
    "def collatz(state: State) -> State:\n",
    "    \"\"\"\n",
    "    This node calculates the next number in the Collatz sequence.\n",
    "    \"\"\"\n",
    "\n",
    "    current_n = state.get(\"n\")\n",
    "    print(f\"n: {current_n}\")\n",
    "\n",
    "    if current_n % 2 == 0:\n",
    "        next_n = current_n // 2  # Integer division\n",
    "    else:\n",
    "        next_n = (current_n * 3) + 1\n",
    "\n",
    "    return {\"n\": next_n}\n",
    "\n",
    "\n",
    "def is_one(state: State) -> Any:\n",
    "    \"\"\"\n",
    "    This node determines if we've reached the end of the Collatz sequence (n = 1).\n",
    "    \"\"\"\n",
    "\n",
    "    current_n = state.get(\"n\")\n",
    "\n",
    "    if current_n == 1:\n",
    "        return END\n",
    "    else:\n",
    "        return \"collatz\""
   ]
  },
  {
   "cell_type": "markdown",
   "metadata": {},
   "source": [
    "## 3. Build the **Graph**\n",
    "\n",
    "Now this time, we'll tell the graph to loop back to the same node if the number is not 1:\n"
   ]
  },
  {
   "cell_type": "code",
   "execution_count": 30,
   "metadata": {},
   "outputs": [],
   "source": [
    "# 1. Create a graph\n",
    "builder = StateGraph(State)\n",
    "\n",
    "# 2. Add our nodes\n",
    "builder.add_node(\"collatz\", collatz)\n",
    "\n",
    "# 3. Add edges between nodes\n",
    "builder.add_edge(START, \"collatz\")\n",
    "builder.add_conditional_edges(\"collatz\", is_one)\n",
    "\n",
    "# 4. Compile the graph\n",
    "graph = builder.compile()"
   ]
  },
  {
   "cell_type": "markdown",
   "metadata": {},
   "source": [
    "`LangGraph` provides a nice method of visualizing the graph, which we can use to check our work:\n"
   ]
  },
  {
   "cell_type": "code",
   "execution_count": 31,
   "metadata": {},
   "outputs": [
    {
     "data": {
      "image/jpeg": "[encoded data removed]",
      "text/plain": [
       "<IPython.core.display.Image object>"
      ]
     },
     "metadata": {},
     "output_type": "display_data"
    }
   ],
   "source": [
    "display(Image(graph.get_graph().draw_mermaid_png()))"
   ]
  },
  {
   "cell_type": "markdown",
   "metadata": {},
   "source": [
    "## 4. Run the **Graph**\n",
    "\n",
    "Now the exciting part! Let's execute our graph and see what happens:\n"
   ]
  },
  {
   "cell_type": "code",
   "execution_count": 37,
   "metadata": {},
   "outputs": [
    {
     "name": "stdout",
     "output_type": "stream",
     "text": [
      "n: 4\n",
      "n: 2\n"
     ]
    }
   ],
   "source": [
    "initial_state = {\"n\": 4}\n",
    "\n",
    "final_state = graph.invoke(initial_state)"
   ]
  },
  {
   "cell_type": "code",
   "execution_count": 28,
   "metadata": {},
   "outputs": [
    {
     "name": "stdout",
     "output_type": "stream",
     "text": [
      "{'n': 1}\n"
     ]
    }
   ],
   "source": [
    "pprint(final_state)"
   ]
  }
 ],
 "metadata": {
  "kernelspec": {
   "display_name": "agentic-workflows-XL_Mb6A2-py3.10",
   "language": "python",
   "name": "python3"
  },
  "language_info": {
   "codemirror_mode": {
    "name": "ipython",
    "version": 3
   },
   "file_extension": ".py",
   "mimetype": "text/x-python",
   "name": "python",
   "nbconvert_exporter": "python",
   "pygments_lexer": "ipython3",
   "version": "3.10.14"
  }
 },
 "nbformat": 4,
 "nbformat_minor": 2
}
