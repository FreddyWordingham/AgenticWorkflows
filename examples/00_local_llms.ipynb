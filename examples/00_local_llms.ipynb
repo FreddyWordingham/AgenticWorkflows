{
 "cells": [
  {
   "cell_type": "markdown",
   "metadata": {},
   "source": [
    "# Running Local LLMs\n",
    "\n",
    "`Ollama` is a fantastic tool that makes it easy to run local LLMs.\n"
   ]
  },
  {
   "cell_type": "code",
   "execution_count": 24,
   "metadata": {},
   "outputs": [],
   "source": [
    "import json\n",
    "import requests\n",
    "\n",
    "\n",
    "def query_llm(prompt: str) -> str:\n",
    "\n",
    "    url = \"http://localhost:11434/api/generate\"\n",
    "    headers = {\"Content-Type\": \"application/json\"}\n",
    "    data = {\"model\": \"llama3.1\", \"prompt\": prompt, \"stream\": False}\n",
    "\n",
    "    response = requests.post(url, headers=headers, data=json.dumps(data))\n",
    "\n",
    "    response_text = response.text\n",
    "    data = json.loads(response_text)\n",
    "    actual_response = data.get(\"response\")\n",
    "\n",
    "    print(actual_response)"
   ]
  },
  {
   "cell_type": "code",
   "execution_count": 28,
   "metadata": {},
   "outputs": [
    {
     "name": "stdout",
     "output_type": "stream",
     "text": [
      "Pinecones themselves are not typically considered a food source and do not provide significant nutritional value. They are actually the reproductive structures of pine trees, produced to disperse seeds (pine nuts or seeds) into the environment.\n",
      "\n",
      "However, some parts of pinecones can be edible:\n",
      "\n",
      "1. **Pine seeds**: Also known as pine nuts, these seeds are edible and contain protein, healthy fats, and various micronutrients like magnesium, phosphorus, and manganese. They're a good source of energy and can be roasted or used in baking.\n",
      "2. **Mugo Pine pollen**: Some people collect the pollen from Mugo Pine (Pinus mugo) cones as a dietary supplement. The pollen is rich in vitamins B1, B3, and E, as well as minerals like potassium and zinc.\n",
      "\n",
      "It's essential to note that not all pinecones are safe for consumption:\n",
      "\n",
      "* **Eastern White Pine** (Pinus strobus): While the seeds from this species can be edible, they contain high levels of a toxic compound called saponin.\n",
      "* **Scotch Pine** (Pinus sylvestris): The cones and seeds from this tree are considered toxic and should not be eaten.\n",
      "\n",
      "If you're interested in using pinecones as a food source, make sure to:\n",
      "\n",
      "1. Identify the correct species: Only use pine nuts or pollen from species like Mugo Pine or Pinyon Pine (Pinus monophylla), which are known to be safe for consumption.\n",
      "2. Harvest properly: Collect seeds or pollen during the right time of year and in an area free from pollutants and pesticides.\n",
      "3. Prepare them correctly: Roast pine nuts to enhance their flavor and texture, but ensure they're fully roasted to destroy any potential toxins.\n",
      "\n",
      "In summary, while some parts of pinecones can be a good source of nutrition (pine seeds and Mugo Pine pollen), not all species are safe for consumption, and proper harvesting and preparation techniques must be followed.\n"
     ]
    }
   ],
   "source": [
    "query_llm(\"Are pinecones a source of good nutrition?\")"
   ]
  }
 ],
 "metadata": {
  "kernelspec": {
   "display_name": "agentic-workflows-XL_Mb6A2-py3.10",
   "language": "python",
   "name": "python3"
  },
  "language_info": {
   "codemirror_mode": {
    "name": "ipython",
    "version": 3
   },
   "file_extension": ".py",
   "mimetype": "text/x-python",
   "name": "python",
   "nbconvert_exporter": "python",
   "pygments_lexer": "ipython3",
   "version": "3.10.14"
  }
 },
 "nbformat": 4,
 "nbformat_minor": 2
}
