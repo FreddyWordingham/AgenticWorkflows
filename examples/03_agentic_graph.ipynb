{
 "cells": [
  {
   "cell_type": "markdown",
   "metadata": {},
   "source": [
    "# An Agentic Graph\n"
   ]
  },
  {
   "cell_type": "markdown",
   "metadata": {},
   "source": [
    "We'll define an \"agentic\" workflow as a graph where a large language model is used to make decisions during the execution of the graph.\n",
    "\n",
    "These decisions could be:\n",
    "\n",
    "- Deciding which `node` to visit next\n",
    "- Deciding which `tools` to use to answer a question (more on this next example!)\n",
    "- Deciding whether the output of a previous node is correct or not\n"
   ]
  },
  {
   "cell_type": "markdown",
   "metadata": {},
   "source": [
    "## Should I go outside today?\n",
    "\n",
    "Let's construct a graph that helps us decide whether we should venture outside today by checking the weather in a given location, and then using an LLM to categorize if the weather is good or bad.\n"
   ]
  },
  {
   "cell_type": "code",
   "execution_count": 1,
   "metadata": {},
   "outputs": [],
   "source": [
    "from IPython.display import Image, display\n",
    "from pprint import pprint\n",
    "from typing import Any, Optional, TypedDict\n",
    "import json\n",
    "import re\n",
    "import requests\n",
    "\n",
    "from langgraph.graph import (\n",
    "    StateGraph,\n",
    "    START,\n",
    "    END,\n",
    ")  # For creating and running agentic workflows\n",
    "from rich.console import Console  # For nice printing of Markdown\n",
    "from rich.markdown import Markdown\n",
    "\n",
    "\n",
    "def query_llm(prompt: str) -> str:\n",
    "\n",
    "    url = \"http://localhost:11434/api/generate\"\n",
    "    headers = {\"Content-Type\": \"application/json\"}\n",
    "    data = {\"model\": \"llama3.1\", \"prompt\": prompt, \"stream\": False}\n",
    "\n",
    "    response = requests.post(url, headers=headers, data=json.dumps(data))\n",
    "\n",
    "    response_text = response.text\n",
    "    data = json.loads(response_text)\n",
    "    actual_response = data.get(\"response\")\n",
    "\n",
    "    return actual_response"
   ]
  },
  {
   "cell_type": "markdown",
   "metadata": {},
   "source": [
    "## 1. Define the **State**\n",
    "\n",
    "This time, our state will need to \"remember\" the number we are currently working with:\n"
   ]
  },
  {
   "cell_type": "code",
   "execution_count": 2,
   "metadata": {},
   "outputs": [],
   "source": [
    "class State(TypedDict):\n",
    "    location: str\n",
    "    weather: Optional[str] = None"
   ]
  },
  {
   "cell_type": "markdown",
   "metadata": {},
   "source": [
    "## 2. Define the **Nodes**\n",
    "\n",
    "- We'll need one node that gets the weather for a given location (by calling an API)\n",
    "- The second node will use an LLM to decide if the weather is good or bad\n",
    "- When the weather is good, we'll make a node that tells us to go outside\n",
    "- When the weather is bad, we'll make a node that suggests us an indoor activity\n"
   ]
  },
  {
   "cell_type": "code",
   "execution_count": 3,
   "metadata": {},
   "outputs": [],
   "source": [
    "def get_the_weather(state: State) -> State:\n",
    "    \"\"\"\n",
    "    This node mocks a weather API by setting the weather based on the location.\n",
    "    \"\"\"\n",
    "\n",
    "    if state.get(\"location\") == \"Exeter\":\n",
    "        state[\"weather\"] = \"sunny\"\n",
    "    elif state.get(\"location\") == \"Glasgow\":\n",
    "        state[\"weather\"] = \"rainy\"\n",
    "\n",
    "    return state\n",
    "\n",
    "\n",
    "def decide_if_weather_is_good(state: State) -> Any:\n",
    "    \"\"\"\n",
    "    This node uses a language model to decide if the weather is good.\n",
    "    \"\"\"\n",
    "\n",
    "    weather = state.get(\"weather\")\n",
    "\n",
    "    answer = query_llm(\n",
    "        f\"Would the typical person consider {weather} good weather? Answer with yes or no.\"\n",
    "    )\n",
    "\n",
    "    sanitized_answer = re.sub(r\"[^a-zA-Z0-9]\", \"\", answer.lower())\n",
    "\n",
    "    if sanitized_answer == \"yes\":\n",
    "        return \"tell_me_to_go_outside\"\n",
    "    else:\n",
    "        return \"suggest_an_indoor_activity\"\n",
    "\n",
    "\n",
    "def tell_me_to_go_outside(state: State) -> State:\n",
    "    \"\"\"\n",
    "    This node tells the user to go outside.\n",
    "    \"\"\"\n",
    "\n",
    "    print(\"You should go touch grass. The weather is good!\")\n",
    "\n",
    "    return state\n",
    "\n",
    "\n",
    "def suggest_an_indoor_activity(state: State) -> State:\n",
    "    \"\"\"\n",
    "    This node suggests an indoor activity based on the location and weather.\n",
    "    \"\"\"\n",
    "\n",
    "    location = state.get(\"location\")\n",
    "    weather = state.get(\"weather\")\n",
    "\n",
    "    suggestion = query_llm(\n",
    "        f\"Can you suggest an indoor activity for someone in {location} when the weather is {weather}?\"\n",
    "    )\n",
    "\n",
    "    markdown = Markdown(suggestion)\n",
    "    console = Console()\n",
    "    console.print(markdown)\n",
    "\n",
    "    return state"
   ]
  },
  {
   "cell_type": "markdown",
   "metadata": {},
   "source": [
    "## 3. Build the **Graph**\n",
    "\n",
    "We'll create a graph that will:\n",
    "\n",
    "1. Check the weather\n",
    "2. Use an LLM to decide if the weather is good or bad\n",
    "3. If the weather is good, suggest going outside, otherwise suggest an indoor activity\n"
   ]
  },
  {
   "cell_type": "code",
   "execution_count": 4,
   "metadata": {},
   "outputs": [],
   "source": [
    "# 1. Create a graph\n",
    "builder = StateGraph(State)\n",
    "\n",
    "# 2. Add our nodes\n",
    "builder.add_node(\"get_the_weather\", get_the_weather)\n",
    "builder.add_node(\"is_the_weather_good\", decide_if_weather_is_good)\n",
    "builder.add_node(\"tell_me_to_go_outside\", tell_me_to_go_outside)\n",
    "builder.add_node(\"suggest_an_indoor_activity\", suggest_an_indoor_activity)\n",
    "\n",
    "# 3. Add edges between nodes\n",
    "builder.add_edge(START, \"get_the_weather\")\n",
    "builder.add_conditional_edges(\"get_the_weather\", decide_if_weather_is_good)\n",
    "builder.add_edge(\"tell_me_to_go_outside\", END)\n",
    "builder.add_edge(\"suggest_an_indoor_activity\", END)\n",
    "\n",
    "# 4. Compile the graph\n",
    "graph = builder.compile()"
   ]
  },
  {
   "cell_type": "markdown",
   "metadata": {},
   "source": [
    "`LangGraph` provides a nice method of visualizing the graph, which we can use to check our work:\n"
   ]
  },
  {
   "cell_type": "code",
   "execution_count": 5,
   "metadata": {},
   "outputs": [
    {
     "data": {
      "image/jpeg": "[encoded data removed]",
      "text/plain": [
       "<IPython.core.display.Image object>"
      ]
     },
     "metadata": {},
     "output_type": "display_data"
    }
   ],
   "source": [
    "display(Image(graph.get_graph().draw_mermaid_png()))"
   ]
  },
  {
   "cell_type": "markdown",
   "metadata": {},
   "source": [
    "## 4. Run the **Graph**\n",
    "\n",
    "Now the exciting part! Let's execute our graph and see what happens:\n"
   ]
  },
  {
   "cell_type": "code",
   "execution_count": 8,
   "metadata": {},
   "outputs": [
    {
     "name": "stdout",
     "output_type": "stream",
     "text": [
      "You should go touch grass. The weather is good!\n"
     ]
    }
   ],
   "source": [
    "initial_state = {\"location\": \"Exeter\"}\n",
    "\n",
    "final_state = graph.invoke(initial_state)"
   ]
  },
  {
   "cell_type": "code",
   "execution_count": 7,
   "metadata": {},
   "outputs": [
    {
     "name": "stdout",
     "output_type": "stream",
     "text": [
      "{'location': 'Glasgow', 'weather': 'rainy'}\n"
     ]
    }
   ],
   "source": [
    "pprint(final_state)"
   ]
  }
 ],
 "metadata": {
  "kernelspec": {
   "display_name": "agentic-workflows-XL_Mb6A2-py3.10",
   "language": "python",
   "name": "python3"
  },
  "language_info": {
   "codemirror_mode": {
    "name": "ipython",
    "version": 3
   },
   "file_extension": ".py",
   "mimetype": "text/x-python",
   "name": "python",
   "nbconvert_exporter": "python",
   "pygments_lexer": "ipython3",
   "version": "3.10.14"
  }
 },
 "nbformat": 4,
 "nbformat_minor": 2
}
